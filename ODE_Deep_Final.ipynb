{
 "cells": [
  {
   "cell_type": "code",
   "execution_count": 1,
   "metadata": {},
   "outputs": [],
   "source": [
    "# min: x1^2 + x2^2 + x3^2\n",
    "# constraints: 2x1 + x2 + x3 <= 8\n",
    "# constraints: -x1 - 2x2 + x3 <= b \n",
    "# constraints: -x1, -x2, -x3 <= 0"
   ]
  },
  {
   "cell_type": "code",
   "execution_count": 2,
   "metadata": {},
   "outputs": [],
   "source": [
    "import torch\n",
    "import torch.nn as nn\n",
    "from torch.utils.data import DataLoader,TensorDataset\n",
    "import torch.optim as optim\n",
    "import random\n",
    "import math\n",
    "import numpy as np\n",
    "from scipy.optimize import linprog\n",
    "from scipy.integrate import solve_ivp"
   ]
  },
  {
   "cell_type": "code",
   "execution_count": 3,
   "metadata": {},
   "outputs": [
    {
     "name": "stdout",
     "output_type": "stream",
     "text": [
      "cpu\n"
     ]
    }
   ],
   "source": [
    "device=torch.device('cuda' if torch.cuda.is_available() else 'cpu')\n",
    "print(device)"
   ]
  },
  {
   "cell_type": "code",
   "execution_count": 4,
   "metadata": {},
   "outputs": [],
   "source": [
    "\n",
    "def ODE_sol(b1, b2):\n",
    "    \n",
    "    def kkt_ode(t, y):\n",
    "\n",
    "\n",
    "        x1, x2, x3, lambda1, lambda2, lambda3, lambda4, lambda5 = y\n",
    "        dx1dt = -(2 * x1 + 2 * lambda1 - lambda2 - lambda3)\n",
    "        dx2dt = -(2 * x2 + lambda1 - 2 * lambda2 - lambda4)\n",
    "        dx3dt = -(2 * x3 + lambda1 + lambda2 - lambda5)\n",
    "\n",
    "        dlambda1dt = lambda1 * (2 * x1 + x2 + x3 - b1)\n",
    "        dlambda2dt = lambda2 * (-x1 -2 * x2 + x3 - b2)\n",
    "        dlambda3dt = lambda3 * (-x1)\n",
    "        dlambda4dt = lambda4 * (-x2)\n",
    "        dlambda5dt = lambda5 * (-x3)\n",
    "\n",
    "        return [dx1dt, dx2dt, dx3dt, dlambda1dt, dlambda2dt, dlambda3dt, dlambda4dt, dlambda5dt]\n",
    "\n",
    "    # Initial conditions\n",
    "    x1_0 = 0\n",
    "    x2_0 = 0\n",
    "    x3_0 = 0\n",
    "\n",
    "    lambda1_0 = 0.5\n",
    "    lambda2_0 = 0.5\n",
    "    lambda3_0 = 0.5\n",
    "    lambda4_0 = 0.5\n",
    "    lambda5_0 = 0.5\n",
    "\n",
    "    y0 = [x1_0, x2_0, x3_0, lambda1_0, lambda2_0, lambda3_0, lambda4_0, lambda5_0]\n",
    "\n",
    "    # Time span for the solution\n",
    "    t_span = (0, 20)\n",
    "    t_eval = np.linspace(t_span[0], t_span[1], 201)\n",
    "\n",
    "    # Solve the ODE system\n",
    "    sol = solve_ivp(kkt_ode, t_span, y0, t_eval=t_eval)\n",
    "    \n",
    "    return sol\n",
    "\n",
    "  "
   ]
  },
  {
   "cell_type": "code",
   "execution_count": 5,
   "metadata": {},
   "outputs": [],
   "source": [
    "def ODE(train_data):\n",
    "  \n",
    "  \n",
    "    b1 = []\n",
    "    b2 = []\n",
    "    answer=[]\n",
    "    time = []\n",
    "    \n",
    "    for i in range(0,40200,201): \n",
    "        b1.append(train_data[i][0])\n",
    "        b2.append(train_data[i][1])\n",
    "\n",
    "    for i in range(201):\n",
    "        time.append(i/10)\n",
    "    \n",
    "\n",
    "    for i in range(200): \n",
    "        \n",
    "        solution = ODE_sol(b1[i], b2[i])\n",
    "        for j in range(201):\n",
    "            \n",
    "        \n",
    "            time_index = np.argmin(np.abs(solution.t - time[j]))\n",
    "            x1_at_time = solution.y[0][time_index] \n",
    "            x2_at_time = solution.y[1][time_index] \n",
    "            x3_at_time = solution.y[2][time_index] \n",
    "            lambda1_at_time = solution.y[3][time_index] \n",
    "            lambda2_at_time = solution.y[4][time_index] \n",
    "            lambda3_at_time = solution.y[5][time_index] \n",
    "            lambda4_at_time = solution.y[6][time_index] \n",
    "            lambda5_at_time = solution.y[7][time_index] \n",
    "            \n",
    "            \n",
    "           \n",
    "            answer.append([x1_at_time, x2_at_time, x3_at_time, lambda1_at_time, lambda2_at_time, lambda3_at_time, lambda4_at_time, lambda5_at_time])\n",
    "\n",
    "        \n",
    "    tensor_answer = torch.tensor(answer)\n",
    "    tensor_answer = tensor_answer.float()\n",
    "  \n",
    "    return tensor_answer\n",
    "\n",
    "\n",
    "\n",
    "#print(ODE(train_data))"
   ]
  },
  {
   "cell_type": "code",
   "execution_count": 6,
   "metadata": {},
   "outputs": [],
   "source": [
    "# Dataset\n",
    "def generate_data():\n",
    "    tensor_list = []\n",
    "    for i in range(1, 201):\n",
    "        b1 = 8\n",
    "        b2 = random.uniform(-10, 0)\n",
    "        \n",
    "        for j in range(201):   \n",
    "            tensor_list.append([b1, b2, j/10])\n",
    "            \n",
    "    return tensor_list\n",
    "\n",
    "train_data = generate_data()\n",
    "test_data = generate_data()\n",
    "\n",
    "train_data = torch.tensor(train_data)\n",
    "test_data = torch.tensor(test_data)\n",
    "\n",
    "train_label = ODE(train_data)\n",
    "test_label = ODE(test_data)\n",
    "\n",
    "    \n"
   ]
  },
  {
   "cell_type": "code",
   "execution_count": 7,
   "metadata": {},
   "outputs": [],
   "source": [
    "train_data = torch.Tensor(train_data)\n",
    "train_label = torch.Tensor(train_label)\n",
    "\n",
    "train = TensorDataset(train_data, train_label)\n",
    "train_dataload = DataLoader(train, batch_size=201, shuffle=False)\n",
    "\n",
    "\n",
    "test_data = torch.Tensor(test_data)\n",
    "test_label = torch.Tensor(test_label)\n",
    "\n",
    "test = TensorDataset(test_data, test_label)\n",
    "test_dataload = DataLoader(test, batch_size=201, shuffle=False)"
   ]
  },
  {
   "cell_type": "code",
   "execution_count": 8,
   "metadata": {},
   "outputs": [],
   "source": [
    "class MLP(nn.Module):\n",
    "    \n",
    "    def __init__(self):\n",
    "        super(MLP,self).__init__()\n",
    "        \n",
    "        self.linear1=torch.nn.Linear(3, 100)\n",
    "        self.act = torch.nn.Tanh()\n",
    "        self.linear2=torch.nn.Linear(100, 8)\n",
    "\n",
    "    def forward(self, x):\n",
    "        x=self.linear1(x)\n",
    "        x=self.act(x)\n",
    "        x=self.linear2(x)\n",
    "                \n",
    "        return x"
   ]
  },
  {
   "cell_type": "code",
   "execution_count": 9,
   "metadata": {},
   "outputs": [
    {
     "name": "stdout",
     "output_type": "stream",
     "text": [
      "-------10th epoch-------\n",
      "Training Loss: \n",
      "0.0030505421752877737\n",
      "-------20th epoch-------\n",
      "Training Loss: \n",
      "0.003041256771666667\n",
      "-------30th epoch-------\n",
      "Training Loss: \n",
      "0.0030363493715412915\n",
      "-------40th epoch-------\n",
      "Training Loss: \n",
      "0.0030321343087962305\n"
     ]
    },
    {
     "ename": "KeyboardInterrupt",
     "evalue": "",
     "output_type": "error",
     "traceback": [
      "\u001b[0;31m---------------------------------------------------------------------------\u001b[0m",
      "\u001b[0;31mKeyboardInterrupt\u001b[0m                         Traceback (most recent call last)",
      "Cell \u001b[0;32mIn[9], line 24\u001b[0m\n\u001b[1;32m     22\u001b[0m     loss \u001b[38;5;241m=\u001b[39m loss_function(output, label)\n\u001b[1;32m     23\u001b[0m     loss\u001b[38;5;241m.\u001b[39mbackward()\n\u001b[0;32m---> 24\u001b[0m     \u001b[43moptimizer\u001b[49m\u001b[38;5;241;43m.\u001b[39;49m\u001b[43mstep\u001b[49m\u001b[43m(\u001b[49m\u001b[43m)\u001b[49m\n\u001b[1;32m     25\u001b[0m     train_loss \u001b[38;5;241m+\u001b[39m\u001b[38;5;241m=\u001b[39m loss\u001b[38;5;241m.\u001b[39mitem()\n\u001b[1;32m     27\u001b[0m \u001b[38;5;28;01mif\u001b[39;00m((epoch\u001b[38;5;241m+\u001b[39m\u001b[38;5;241m1\u001b[39m)\u001b[38;5;241m%\u001b[39m\u001b[38;5;241m10\u001b[39m\u001b[38;5;241m==\u001b[39m\u001b[38;5;241m0\u001b[39m):\n",
      "File \u001b[0;32m~/anaconda3/lib/python3.10/site-packages/torch/optim/optimizer.py:140\u001b[0m, in \u001b[0;36mOptimizer._hook_for_profile.<locals>.profile_hook_step.<locals>.wrapper\u001b[0;34m(*args, **kwargs)\u001b[0m\n\u001b[1;32m    138\u001b[0m profile_name \u001b[38;5;241m=\u001b[39m \u001b[38;5;124m\"\u001b[39m\u001b[38;5;124mOptimizer.step#\u001b[39m\u001b[38;5;132;01m{}\u001b[39;00m\u001b[38;5;124m.step\u001b[39m\u001b[38;5;124m\"\u001b[39m\u001b[38;5;241m.\u001b[39mformat(obj\u001b[38;5;241m.\u001b[39m\u001b[38;5;18m__class__\u001b[39m\u001b[38;5;241m.\u001b[39m\u001b[38;5;18m__name__\u001b[39m)\n\u001b[1;32m    139\u001b[0m \u001b[38;5;28;01mwith\u001b[39;00m torch\u001b[38;5;241m.\u001b[39mautograd\u001b[38;5;241m.\u001b[39mprofiler\u001b[38;5;241m.\u001b[39mrecord_function(profile_name):\n\u001b[0;32m--> 140\u001b[0m     out \u001b[38;5;241m=\u001b[39m \u001b[43mfunc\u001b[49m\u001b[43m(\u001b[49m\u001b[38;5;241;43m*\u001b[39;49m\u001b[43margs\u001b[49m\u001b[43m,\u001b[49m\u001b[43m \u001b[49m\u001b[38;5;241;43m*\u001b[39;49m\u001b[38;5;241;43m*\u001b[39;49m\u001b[43mkwargs\u001b[49m\u001b[43m)\u001b[49m\n\u001b[1;32m    141\u001b[0m     obj\u001b[38;5;241m.\u001b[39m_optimizer_step_code()\n\u001b[1;32m    142\u001b[0m     \u001b[38;5;28;01mreturn\u001b[39;00m out\n",
      "File \u001b[0;32m~/anaconda3/lib/python3.10/site-packages/torch/optim/optimizer.py:23\u001b[0m, in \u001b[0;36m_use_grad_for_differentiable.<locals>._use_grad\u001b[0;34m(self, *args, **kwargs)\u001b[0m\n\u001b[1;32m     21\u001b[0m \u001b[38;5;28;01mtry\u001b[39;00m:\n\u001b[1;32m     22\u001b[0m     torch\u001b[38;5;241m.\u001b[39mset_grad_enabled(\u001b[38;5;28mself\u001b[39m\u001b[38;5;241m.\u001b[39mdefaults[\u001b[38;5;124m'\u001b[39m\u001b[38;5;124mdifferentiable\u001b[39m\u001b[38;5;124m'\u001b[39m])\n\u001b[0;32m---> 23\u001b[0m     ret \u001b[38;5;241m=\u001b[39m \u001b[43mfunc\u001b[49m\u001b[43m(\u001b[49m\u001b[38;5;28;43mself\u001b[39;49m\u001b[43m,\u001b[49m\u001b[43m \u001b[49m\u001b[38;5;241;43m*\u001b[39;49m\u001b[43margs\u001b[49m\u001b[43m,\u001b[49m\u001b[43m \u001b[49m\u001b[38;5;241;43m*\u001b[39;49m\u001b[38;5;241;43m*\u001b[39;49m\u001b[43mkwargs\u001b[49m\u001b[43m)\u001b[49m\n\u001b[1;32m     24\u001b[0m \u001b[38;5;28;01mfinally\u001b[39;00m:\n\u001b[1;32m     25\u001b[0m     torch\u001b[38;5;241m.\u001b[39mset_grad_enabled(prev_grad)\n",
      "File \u001b[0;32m~/anaconda3/lib/python3.10/site-packages/torch/optim/adam.py:234\u001b[0m, in \u001b[0;36mAdam.step\u001b[0;34m(self, closure, grad_scaler)\u001b[0m\n\u001b[1;32m    231\u001b[0m                 \u001b[38;5;28;01mraise\u001b[39;00m \u001b[38;5;167;01mRuntimeError\u001b[39;00m(\u001b[38;5;124m'\u001b[39m\u001b[38;5;124m`requires_grad` is not supported for `step` in differentiable mode\u001b[39m\u001b[38;5;124m'\u001b[39m)\n\u001b[1;32m    232\u001b[0m             state_steps\u001b[38;5;241m.\u001b[39mappend(state[\u001b[38;5;124m'\u001b[39m\u001b[38;5;124mstep\u001b[39m\u001b[38;5;124m'\u001b[39m])\n\u001b[0;32m--> 234\u001b[0m     \u001b[43madam\u001b[49m\u001b[43m(\u001b[49m\u001b[43mparams_with_grad\u001b[49m\u001b[43m,\u001b[49m\n\u001b[1;32m    235\u001b[0m \u001b[43m         \u001b[49m\u001b[43mgrads\u001b[49m\u001b[43m,\u001b[49m\n\u001b[1;32m    236\u001b[0m \u001b[43m         \u001b[49m\u001b[43mexp_avgs\u001b[49m\u001b[43m,\u001b[49m\n\u001b[1;32m    237\u001b[0m \u001b[43m         \u001b[49m\u001b[43mexp_avg_sqs\u001b[49m\u001b[43m,\u001b[49m\n\u001b[1;32m    238\u001b[0m \u001b[43m         \u001b[49m\u001b[43mmax_exp_avg_sqs\u001b[49m\u001b[43m,\u001b[49m\n\u001b[1;32m    239\u001b[0m \u001b[43m         \u001b[49m\u001b[43mstate_steps\u001b[49m\u001b[43m,\u001b[49m\n\u001b[1;32m    240\u001b[0m \u001b[43m         \u001b[49m\u001b[43mamsgrad\u001b[49m\u001b[38;5;241;43m=\u001b[39;49m\u001b[43mgroup\u001b[49m\u001b[43m[\u001b[49m\u001b[38;5;124;43m'\u001b[39;49m\u001b[38;5;124;43mamsgrad\u001b[39;49m\u001b[38;5;124;43m'\u001b[39;49m\u001b[43m]\u001b[49m\u001b[43m,\u001b[49m\n\u001b[1;32m    241\u001b[0m \u001b[43m         \u001b[49m\u001b[43mbeta1\u001b[49m\u001b[38;5;241;43m=\u001b[39;49m\u001b[43mbeta1\u001b[49m\u001b[43m,\u001b[49m\n\u001b[1;32m    242\u001b[0m \u001b[43m         \u001b[49m\u001b[43mbeta2\u001b[49m\u001b[38;5;241;43m=\u001b[39;49m\u001b[43mbeta2\u001b[49m\u001b[43m,\u001b[49m\n\u001b[1;32m    243\u001b[0m \u001b[43m         \u001b[49m\u001b[43mlr\u001b[49m\u001b[38;5;241;43m=\u001b[39;49m\u001b[43mgroup\u001b[49m\u001b[43m[\u001b[49m\u001b[38;5;124;43m'\u001b[39;49m\u001b[38;5;124;43mlr\u001b[39;49m\u001b[38;5;124;43m'\u001b[39;49m\u001b[43m]\u001b[49m\u001b[43m,\u001b[49m\n\u001b[1;32m    244\u001b[0m \u001b[43m         \u001b[49m\u001b[43mweight_decay\u001b[49m\u001b[38;5;241;43m=\u001b[39;49m\u001b[43mgroup\u001b[49m\u001b[43m[\u001b[49m\u001b[38;5;124;43m'\u001b[39;49m\u001b[38;5;124;43mweight_decay\u001b[39;49m\u001b[38;5;124;43m'\u001b[39;49m\u001b[43m]\u001b[49m\u001b[43m,\u001b[49m\n\u001b[1;32m    245\u001b[0m \u001b[43m         \u001b[49m\u001b[43meps\u001b[49m\u001b[38;5;241;43m=\u001b[39;49m\u001b[43mgroup\u001b[49m\u001b[43m[\u001b[49m\u001b[38;5;124;43m'\u001b[39;49m\u001b[38;5;124;43meps\u001b[39;49m\u001b[38;5;124;43m'\u001b[39;49m\u001b[43m]\u001b[49m\u001b[43m,\u001b[49m\n\u001b[1;32m    246\u001b[0m \u001b[43m         \u001b[49m\u001b[43mmaximize\u001b[49m\u001b[38;5;241;43m=\u001b[39;49m\u001b[43mgroup\u001b[49m\u001b[43m[\u001b[49m\u001b[38;5;124;43m'\u001b[39;49m\u001b[38;5;124;43mmaximize\u001b[39;49m\u001b[38;5;124;43m'\u001b[39;49m\u001b[43m]\u001b[49m\u001b[43m,\u001b[49m\n\u001b[1;32m    247\u001b[0m \u001b[43m         \u001b[49m\u001b[43mforeach\u001b[49m\u001b[38;5;241;43m=\u001b[39;49m\u001b[43mgroup\u001b[49m\u001b[43m[\u001b[49m\u001b[38;5;124;43m'\u001b[39;49m\u001b[38;5;124;43mforeach\u001b[39;49m\u001b[38;5;124;43m'\u001b[39;49m\u001b[43m]\u001b[49m\u001b[43m,\u001b[49m\n\u001b[1;32m    248\u001b[0m \u001b[43m         \u001b[49m\u001b[43mcapturable\u001b[49m\u001b[38;5;241;43m=\u001b[39;49m\u001b[43mgroup\u001b[49m\u001b[43m[\u001b[49m\u001b[38;5;124;43m'\u001b[39;49m\u001b[38;5;124;43mcapturable\u001b[39;49m\u001b[38;5;124;43m'\u001b[39;49m\u001b[43m]\u001b[49m\u001b[43m,\u001b[49m\n\u001b[1;32m    249\u001b[0m \u001b[43m         \u001b[49m\u001b[43mdifferentiable\u001b[49m\u001b[38;5;241;43m=\u001b[39;49m\u001b[43mgroup\u001b[49m\u001b[43m[\u001b[49m\u001b[38;5;124;43m'\u001b[39;49m\u001b[38;5;124;43mdifferentiable\u001b[39;49m\u001b[38;5;124;43m'\u001b[39;49m\u001b[43m]\u001b[49m\u001b[43m,\u001b[49m\n\u001b[1;32m    250\u001b[0m \u001b[43m         \u001b[49m\u001b[43mfused\u001b[49m\u001b[38;5;241;43m=\u001b[39;49m\u001b[43mgroup\u001b[49m\u001b[43m[\u001b[49m\u001b[38;5;124;43m'\u001b[39;49m\u001b[38;5;124;43mfused\u001b[39;49m\u001b[38;5;124;43m'\u001b[39;49m\u001b[43m]\u001b[49m\u001b[43m,\u001b[49m\n\u001b[1;32m    251\u001b[0m \u001b[43m         \u001b[49m\u001b[43mgrad_scale\u001b[49m\u001b[38;5;241;43m=\u001b[39;49m\u001b[43mgrad_scale\u001b[49m\u001b[43m,\u001b[49m\n\u001b[1;32m    252\u001b[0m \u001b[43m         \u001b[49m\u001b[43mfound_inf\u001b[49m\u001b[38;5;241;43m=\u001b[39;49m\u001b[43mfound_inf\u001b[49m\u001b[43m)\u001b[49m\n\u001b[1;32m    254\u001b[0m \u001b[38;5;28;01mreturn\u001b[39;00m loss\n",
      "File \u001b[0;32m~/anaconda3/lib/python3.10/site-packages/torch/optim/adam.py:300\u001b[0m, in \u001b[0;36madam\u001b[0;34m(params, grads, exp_avgs, exp_avg_sqs, max_exp_avg_sqs, state_steps, foreach, capturable, differentiable, fused, grad_scale, found_inf, amsgrad, beta1, beta2, lr, weight_decay, eps, maximize)\u001b[0m\n\u001b[1;32m    297\u001b[0m \u001b[38;5;28;01melse\u001b[39;00m:\n\u001b[1;32m    298\u001b[0m     func \u001b[38;5;241m=\u001b[39m _single_tensor_adam\n\u001b[0;32m--> 300\u001b[0m \u001b[43mfunc\u001b[49m\u001b[43m(\u001b[49m\u001b[43mparams\u001b[49m\u001b[43m,\u001b[49m\n\u001b[1;32m    301\u001b[0m \u001b[43m     \u001b[49m\u001b[43mgrads\u001b[49m\u001b[43m,\u001b[49m\n\u001b[1;32m    302\u001b[0m \u001b[43m     \u001b[49m\u001b[43mexp_avgs\u001b[49m\u001b[43m,\u001b[49m\n\u001b[1;32m    303\u001b[0m \u001b[43m     \u001b[49m\u001b[43mexp_avg_sqs\u001b[49m\u001b[43m,\u001b[49m\n\u001b[1;32m    304\u001b[0m \u001b[43m     \u001b[49m\u001b[43mmax_exp_avg_sqs\u001b[49m\u001b[43m,\u001b[49m\n\u001b[1;32m    305\u001b[0m \u001b[43m     \u001b[49m\u001b[43mstate_steps\u001b[49m\u001b[43m,\u001b[49m\n\u001b[1;32m    306\u001b[0m \u001b[43m     \u001b[49m\u001b[43mamsgrad\u001b[49m\u001b[38;5;241;43m=\u001b[39;49m\u001b[43mamsgrad\u001b[49m\u001b[43m,\u001b[49m\n\u001b[1;32m    307\u001b[0m \u001b[43m     \u001b[49m\u001b[43mbeta1\u001b[49m\u001b[38;5;241;43m=\u001b[39;49m\u001b[43mbeta1\u001b[49m\u001b[43m,\u001b[49m\n\u001b[1;32m    308\u001b[0m \u001b[43m     \u001b[49m\u001b[43mbeta2\u001b[49m\u001b[38;5;241;43m=\u001b[39;49m\u001b[43mbeta2\u001b[49m\u001b[43m,\u001b[49m\n\u001b[1;32m    309\u001b[0m \u001b[43m     \u001b[49m\u001b[43mlr\u001b[49m\u001b[38;5;241;43m=\u001b[39;49m\u001b[43mlr\u001b[49m\u001b[43m,\u001b[49m\n\u001b[1;32m    310\u001b[0m \u001b[43m     \u001b[49m\u001b[43mweight_decay\u001b[49m\u001b[38;5;241;43m=\u001b[39;49m\u001b[43mweight_decay\u001b[49m\u001b[43m,\u001b[49m\n\u001b[1;32m    311\u001b[0m \u001b[43m     \u001b[49m\u001b[43meps\u001b[49m\u001b[38;5;241;43m=\u001b[39;49m\u001b[43meps\u001b[49m\u001b[43m,\u001b[49m\n\u001b[1;32m    312\u001b[0m \u001b[43m     \u001b[49m\u001b[43mmaximize\u001b[49m\u001b[38;5;241;43m=\u001b[39;49m\u001b[43mmaximize\u001b[49m\u001b[43m,\u001b[49m\n\u001b[1;32m    313\u001b[0m \u001b[43m     \u001b[49m\u001b[43mcapturable\u001b[49m\u001b[38;5;241;43m=\u001b[39;49m\u001b[43mcapturable\u001b[49m\u001b[43m,\u001b[49m\n\u001b[1;32m    314\u001b[0m \u001b[43m     \u001b[49m\u001b[43mdifferentiable\u001b[49m\u001b[38;5;241;43m=\u001b[39;49m\u001b[43mdifferentiable\u001b[49m\u001b[43m,\u001b[49m\n\u001b[1;32m    315\u001b[0m \u001b[43m     \u001b[49m\u001b[43mgrad_scale\u001b[49m\u001b[38;5;241;43m=\u001b[39;49m\u001b[43mgrad_scale\u001b[49m\u001b[43m,\u001b[49m\n\u001b[1;32m    316\u001b[0m \u001b[43m     \u001b[49m\u001b[43mfound_inf\u001b[49m\u001b[38;5;241;43m=\u001b[39;49m\u001b[43mfound_inf\u001b[49m\u001b[43m)\u001b[49m\n",
      "File \u001b[0;32m~/anaconda3/lib/python3.10/site-packages/torch/optim/adam.py:353\u001b[0m, in \u001b[0;36m_single_tensor_adam\u001b[0;34m(params, grads, exp_avgs, exp_avg_sqs, max_exp_avg_sqs, state_steps, grad_scale, found_inf, amsgrad, beta1, beta2, lr, weight_decay, eps, maximize, capturable, differentiable)\u001b[0m\n\u001b[1;32m    350\u001b[0m \u001b[38;5;66;03m# update step\u001b[39;00m\n\u001b[1;32m    351\u001b[0m step_t \u001b[38;5;241m+\u001b[39m\u001b[38;5;241m=\u001b[39m \u001b[38;5;241m1\u001b[39m\n\u001b[0;32m--> 353\u001b[0m \u001b[38;5;28;01mif\u001b[39;00m weight_decay \u001b[38;5;241m!=\u001b[39m \u001b[38;5;241m0\u001b[39m:\n\u001b[1;32m    354\u001b[0m     grad \u001b[38;5;241m=\u001b[39m grad\u001b[38;5;241m.\u001b[39madd(param, alpha\u001b[38;5;241m=\u001b[39mweight_decay)\n\u001b[1;32m    356\u001b[0m \u001b[38;5;28;01mif\u001b[39;00m torch\u001b[38;5;241m.\u001b[39mis_complex(param):\n",
      "\u001b[0;31mKeyboardInterrupt\u001b[0m: "
     ]
    }
   ],
   "source": [
    "## DeepConvNet Training\n",
    "model=MLP()\n",
    "model.to(device)\n",
    "model = torch.load('trained_ODEs_model.pt')\n",
    "\n",
    "optimizer = optim.Adam(model.parameters(), lr=0.0001)\n",
    "loss_function = torch.nn.MSELoss()\n",
    "\n",
    "for epoch in range(100000):\n",
    "    \n",
    "    train_loss = 0.0\n",
    "    correct = 0\n",
    "    \n",
    "    for i, (data, label) in enumerate(train_dataload):\n",
    "  \n",
    "        data = data.to(device)\n",
    "        label = label.to(device)\n",
    "\n",
    "        optimizer.zero_grad()\n",
    "        output = model(data)\n",
    "\n",
    "        loss = loss_function(output, label)\n",
    "        loss.backward()\n",
    "        optimizer.step()\n",
    "        train_loss += loss.item()\n",
    "    \n",
    "    if((epoch+1)%10==0):\n",
    "        print(\"-------{}th epoch-------\".format(epoch+1))\n",
    "        print(\"Training Loss: \")\n",
    "        print(train_loss)\n",
    "        torch.save(model, 'trained_ODEs_model.pt')\n",
    "\n",
    "        \n",
    "        \n"
   ]
  },
  {
   "cell_type": "code",
   "execution_count": 23,
   "metadata": {},
   "outputs": [
    {
     "name": "stdout",
     "output_type": "stream",
     "text": [
      "For b2 = -5, the optimal solution is : [1.0027877071692455, 2.0013353783364884, 0.00017346814239033455, 7.489323600591186e-05, 2.00232314650767, -0.0009934157112626593, -0.0013237073990241077, 1.9998645741250423]\n"
     ]
    }
   ],
   "source": [
    "device=torch.device('cpu')\n",
    "model = torch.load('trained_ODEs_model.pt')\n",
    "model.to(device)\n",
    "model.eval()\n",
    "\n",
    "t=20.\n",
    "test = torch.tensor([8, -5, t]) # b1=8, b2=-5\n",
    "test.to(device)\n",
    "output = model(test)\n",
    "\n",
    "factor = 1 - np.exp(-t)\n",
    "output = [factor * x.item() for x in output]\n",
    "\n",
    "print(\"For b2 = -5, the optimal solution is :\", output)"
   ]
  },
  {
   "cell_type": "code",
   "execution_count": 25,
   "metadata": {},
   "outputs": [
    {
     "data": {
      "image/png": "[encoded data removed]",
      "text/plain": [
       "<Figure size 640x480 with 1 Axes>"
      ]
     },
     "metadata": {},
     "output_type": "display_data"
    }
   ],
   "source": [
    "import matplotlib.pyplot as plt\n",
    "\n",
    "time = []\n",
    "result = np.zeros((8, 501))\n",
    "device=torch.device('cpu')\n",
    "model = torch.load('trained_ODEs_model.pt')\n",
    "model.to(device)\n",
    "model.eval()\n",
    "for i in range(501):\n",
    "    \n",
    "    time.append(i/25)\n",
    "    test = torch.tensor([8., -6.21, i/25])\n",
    "    test.to(device)\n",
    "    factor = 1 - np.exp(-(i/25))\n",
    "    output = model(test)\n",
    "    \n",
    "    # output = [factor * x.item()  for x in output]\n",
    "\n",
    "    for j in range(8):\n",
    "        \n",
    "        result[j][i] = output[j]\n",
    "\n",
    "\n",
    "\n",
    "# Plot the results\n",
    "plt.plot(time, result[0], label='x1(t)')\n",
    "plt.plot(time, result[1], label='x2(t)')\n",
    "plt.plot(time, result[2], label='x3(t)')\n",
    "\n",
    "plt.plot(time, result[3], label='lambda1(t)')\n",
    "plt.plot(time, result[4], label='lambda2(t)')\n",
    "plt.plot(time, result[5], label='lambda3(t)')\n",
    "plt.plot(time, result[6], label='lambda4(t)')\n",
    "plt.plot(time, result[7], label='lambda5(t)')\n",
    "\n",
    "plt.xlabel('Time')\n",
    "plt.ylabel('Values')\n",
    "plt.legend(loc='center left', bbox_to_anchor=(1, 0.5))\n",
    "plt.title('Solution of the KKT ODE System with Multiple Constraints')\n",
    "plt.show()\n"
   ]
  },
  {
   "cell_type": "code",
   "execution_count": 27,
   "metadata": {},
   "outputs": [],
   "source": [
    "from scipy.optimize import minimize\n",
    "\n",
    "# Define the objective function\n",
    "def objective(x):\n",
    "    return x[0]**2 + x[1]**2 + x[2]**2\n",
    "\n",
    "# Initial guess\n",
    "x0 = [0.5, 0.5, 0.5]\n",
    "\n",
    "# Create lists to store results\n",
    "sls_solutions = []\n",
    "sls_objective_values = []\n",
    "\n",
    "# Loop 10,000 times with different constraints\n",
    "for i in range(10000):\n",
    "    b1 = 8\n",
    "    b2 = -i / 1000\n",
    "\n",
    "    # Constraints\n",
    "    constraints = [\n",
    "        {'type': 'ineq', 'fun': lambda x, b1=b1: b1 - (2*x[0] + x[1] + x[2])},  # 2x1 + x2 + x3 <= b1\n",
    "        {'type': 'ineq', 'fun': lambda x, b2=b2: b2 + x[0] + 2*x[1] - x[2]},   # -x1 - 2x2 + x3 <= b2\n",
    "        {'type': 'ineq', 'fun': lambda x: x[0]},                               # x1 >= 0\n",
    "        {'type': 'ineq', 'fun': lambda x: x[1]},                               # x2 >= 0\n",
    "        {'type': 'ineq', 'fun': lambda x: x[2]}                                # x3 >= 0\n",
    "    ]\n",
    "\n",
    "    # Minimize\n",
    "    result = minimize(objective, x0, constraints=constraints, method=\"SLSQP\")\n",
    "\n",
    "    # Store results\n",
    "    sls_solutions.append(result.x)\n",
    "    sls_objective_values.append(result.fun)\n",
    "\n",
    "\n"
   ]
  },
  {
   "cell_type": "code",
   "execution_count": 29,
   "metadata": {},
   "outputs": [],
   "source": [
    "from scipy.optimize import minimize\n",
    "import time\n",
    "\n",
    "# Define the objective function\n",
    "def objective(x):\n",
    "    return x[0]**2 + x[1]**2 + x[2]**2\n",
    "\n",
    "# Initial guess\n",
    "x0 = [0.5, 0.5, 0.5]\n",
    "\n",
    "\n",
    "start = time.time()\n",
    "\n",
    "# Loop 10,000 times with different constraints\n",
    "for i in range(10000):\n",
    "    b1 = 8\n",
    "    b2 = -i / 1000\n",
    "\n",
    "    # Constraints\n",
    "    constraints = [\n",
    "        {'type': 'ineq', 'fun': lambda x, b1=b1: b1 - (2*x[0] + x[1] + x[2])},  # 2x1 + x2 + x3 <= b1\n",
    "        {'type': 'ineq', 'fun': lambda x, b2=b2: b2 + x[0] + 2*x[1] - x[2]},   # -x1 - 2x2 + x3 <= b2\n",
    "        {'type': 'ineq', 'fun': lambda x: x[0]},                               # x1 >= 0\n",
    "        {'type': 'ineq', 'fun': lambda x: x[1]},                               # x2 >= 0\n",
    "        {'type': 'ineq', 'fun': lambda x: x[2]}                                # x3 >= 0\n",
    "    ]\n",
    "\n",
    "    # Minimize\n",
    "    result = minimize(objective, x0, constraints=constraints, method=\"SLSQP\")\n",
    "\n",
    "end = time.time()\n"
   ]
  },
  {
   "cell_type": "code",
   "execution_count": 31,
   "metadata": {},
   "outputs": [
    {
     "name": "stdout",
     "output_type": "stream",
     "text": [
      "SLSQP needs time for 10000 data: 30.614420890808105\n"
     ]
    }
   ],
   "source": [
    "print(\"SLSQP needs time for 10000 data:\", end - start)"
   ]
  },
  {
   "cell_type": "code",
   "execution_count": 40,
   "metadata": {},
   "outputs": [],
   "source": [
    "import numpy as np\n",
    "import torch\n",
    "\n",
    "# Initialize arrays\n",
    "ode_solutions = np.zeros((10000, 3))\n",
    "ode_objective_values = np.zeros(10000)\n",
    "\n",
    "# Set device to CPU\n",
    "device = torch.device('cpu')\n",
    "\n",
    "# Load the model and set it to evaluation mode\n",
    "model = torch.load('trained_ODEs_model.pt')\n",
    "model.to(device)\n",
    "model.eval()\n",
    "\n",
    "# Iterate through the range and populate the arrays\n",
    "for i in range(10000):\n",
    "    test = torch.tensor([8., -i / 1000, 20.], device=device)\n",
    "    output = model(test)\n",
    "    \n",
    "    # Populate ode_solutions with the model's output\n",
    "    output = output.detach().numpy()\n",
    "    \n",
    "    # Compute and store the objective values\n",
    "    ode_objective_values[i] = np.sum(output[:2] ** 2)\n",
    "    \n",
    "    ode_solutions[i][0] = output[0]\n",
    "    ode_solutions[i][1] = output[1]\n",
    "    ode_solutions[i][2] = output[2]\n",
    "\n",
    "\n",
    "        "
   ]
  },
  {
   "cell_type": "code",
   "execution_count": 42,
   "metadata": {},
   "outputs": [
    {
     "name": "stdout",
     "output_type": "stream",
     "text": [
      "Neural Network needs time for 10000 data: 0.6127550601959229\n"
     ]
    }
   ],
   "source": [
    "from scipy.optimize import minimize\n",
    "\n",
    "\n",
    "\n",
    "\n",
    "device=torch.device('cpu')\n",
    "model = torch.load('trained_ODEs_model.pt')\n",
    "model.to(device)\n",
    "model.eval()\n",
    "\n",
    "start = time.time()\n",
    "for i in range(10000):\n",
    "    test = torch.tensor([8., - i/1000, 20.])\n",
    "    test.to(device)\n",
    "    output = model(test)\n",
    "\n",
    "end = time.time()\n",
    "\n",
    "print(\"Neural Network needs time for 10000 data:\", end - start) "
   ]
  },
  {
   "cell_type": "code",
   "execution_count": 52,
   "metadata": {},
   "outputs": [
    {
     "name": "stdout",
     "output_type": "stream",
     "text": [
      "margin of error for average optimal solution:  0.002559148632325765\n"
     ]
    }
   ],
   "source": [
    "print(\"margin of error for average optimal solution: \", (np.sum((abs(ode_solutions - sls_solutions))))/30000)\n"
   ]
  },
  {
   "cell_type": "code",
   "execution_count": 56,
   "metadata": {},
   "outputs": [
    {
     "name": "stdout",
     "output_type": "stream",
     "text": [
      "margin of error for average objective function:  0.009692755259928883\n"
     ]
    }
   ],
   "source": [
    "print(\"margin of error for average objective function: \", np.sum(abs(ode_objective_values - sls_objective_values))/10000)\n"
   ]
  },
  {
   "cell_type": "code",
   "execution_count": null,
   "metadata": {},
   "outputs": [],
   "source": []
  }
 ],
 "metadata": {
  "kernelspec": {
   "display_name": "Python 3 (ipykernel)",
   "language": "python",
   "name": "python3"
  },
  "language_info": {
   "codemirror_mode": {
    "name": "ipython",
    "version": 3
   },
   "file_extension": ".py",
   "mimetype": "text/x-python",
   "name": "python",
   "nbconvert_exporter": "python",
   "pygments_lexer": "ipython3",
   "version": "3.10.9"
  },
  "vscode": {
   "interpreter": {
    "hash": "0857428c71fcf5256bab89bb594462117889eefca9ecebf54460521779a2d42e"
   }
  }
 },
 "nbformat": 4,
 "nbformat_minor": 4
}
